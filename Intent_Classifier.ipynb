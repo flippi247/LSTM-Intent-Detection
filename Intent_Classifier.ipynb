{
 "nbformat": 4,
 "nbformat_minor": 0,
 "metadata": {
  "colab": {
   "name": "Intent_Classifier.ipynb",
   "provenance": [],
   "collapsed_sections": [],
   "authorship_tag": "ABX9TyPhHmBreC6MogdFP4AmcGkV"
  },
  "kernelspec": {
   "name": "python3",
   "display_name": "Python 3"
  },
  "language_info": {
   "name": "python"
  }
 },
 "cells": [
  {
   "cell_type": "code",
   "source": [
    "import pandas as pd"
   ],
   "metadata": {
    "id": "csrx7L3IN_rZ"
   },
   "execution_count": null,
   "outputs": []
  },
  {
   "cell_type": "code",
   "source": [
    "import numpy as np\n",
    "import matplotlib.pyplot as plt\n",
    "from sklearn.utils import shuffle\n",
    "import tensorflow as tf\n",
    "from tensorflow import keras\n",
    "from tensorflow.keras.layers import LSTM, Dense, Bidirectional, Dropout, Dense, Activation, Flatten, Embedding\n",
    "from tensorflow.keras.preprocessing.text import Tokenizer\n",
    "from tensorflow.keras.preprocessing import sequence\n",
    "from tensorflow.keras.preprocessing.sequence import pad_sequences\n",
    "from tensorflow.keras.models import Sequential,Model,load_model\n",
    "from tensorflow.keras.optimizers import SGD\n",
    "import urllib.request\n",
    "from collections import defaultdict\n",
    "from copy import deepcopy"
   ],
   "metadata": {
    "id": "lgIN5Tx9N_po"
   },
   "execution_count": null,
   "outputs": []
  },
  {
   "cell_type": "code",
   "execution_count": null,
   "metadata": {
    "id": "xOJIHIyAN3Tw"
   },
   "outputs": [],
   "source": [
    "# Load Data\n",
    "with urllib.request.urlopen(\"https://raw.githubusercontent.com/PhilipWeinmann/WS2021/main/STV/NLU_Data_train.txt\") as f:\n",
    "  train = f.read().decode('utf-8')\n",
    "\n",
    "with urllib.request.urlopen(\"https://raw.githubusercontent.com/PhilipWeinmann/WS2021/main/STV/NLU_Data_test.txt\") as f:\n",
    "  test = f.read().decode('utf-8')"
   ]
  },
  {
   "cell_type": "markdown",
   "source": [
    "#### Convert txt to dataframe"
   ],
   "metadata": {
    "id": "-GGH3XqfOf6S"
   }
  },
  {
   "cell_type": "code",
   "source": [
    "samples_train = train.split(\"\\n\")\n",
    "X_train = []\n",
    "y_train = []\n",
    "for i in range(len(samples_train)):\n",
    "  if len(samples_train[i].split(\"\\t\")) == 2:\n",
    "    X_train.append(samples_train[i].split('\\t')[1])\n",
    "    y_train.append(samples_train[i].split('\\t')[0])\n",
    "  else:\n",
    "    pass\n",
    "\n",
    "samples_test = test.split(\"\\n\")\n",
    "X_test = []\n",
    "y_test = []\n",
    "for i in range(len(samples_test)):\n",
    "  if len(samples_test[i].split(\"\\t\")) == 2:\n",
    "    X_test.append(samples_test[i].split('\\t')[1])\n",
    "    y_test.append(samples_test[i].split('\\t')[0])\n",
    "  else:\n",
    "    pass\n",
    "train_dict = defaultdict(list)\n",
    "test_dict = defaultdict(list)\n",
    "\n",
    "for i in range(len(y_train)):\n",
    "  train_dict[y_train[i]].append(X_train[i])\n",
    "\n",
    "for i in range(len(y_test)):\n",
    "  test_dict[y_test[i]].append(X_test[i])\n",
    "\n",
    "print(sorted(train_dict.keys()))\n",
    "print(sorted(test_dict.keys()))\n",
    "print(len(train_dict.keys()))\n",
    "print(len(test_dict.keys()))"
   ],
   "metadata": {
    "colab": {
     "base_uri": "https://localhost:8080/"
    },
    "id": "9t7K-LqDOLC0",
    "executionInfo": {
     "status": "ok",
     "timestamp": 1640035254160,
     "user_tz": -60,
     "elapsed": 336,
     "user": {
      "displayName": "Philip",
      "photoUrl": "https://lh3.googleusercontent.com/a-/AOh14GjqcEfA087Q1ZxsEES7S5t6hXs8sFKMJv4mdqZqSg=s64",
      "userId": "16943322938249538799"
     }
    },
    "outputId": "397c24fe-56f6-4a0e-b668-053d6aff490b"
   },
   "execution_count": null,
   "outputs": [
    {
     "output_type": "stream",
     "name": "stdout",
     "text": [
      "['AddToPlaylist', 'BookRestaurant', 'ComparePlaces', 'GetDirections', 'GetPlaceDetails', 'GetTrafficInformation', 'GetWeather', 'PlayMusic', 'RateBook', 'RequestRide', 'SearchCreativeWork', 'SearchPlace', 'SearchScreeningEvent', 'ShareCurrentLocation', 'ShareETA']\n",
      "['AddToPlaylist', 'BookRestaurant', 'ComparePlaces', 'GetDirections', 'GetPlaceDetails', 'GetTrafficInformation', 'GetWeather', 'PlayMusic', 'RateBook', 'RequestRide', 'SearchCreativeWork', 'SearchPlace', 'SearchScreeningEvent', 'ShareCurrentLocation', 'ShareETA']\n",
      "15\n",
      "15\n"
     ]
    }
   ]
  },
  {
   "cell_type": "markdown",
   "source": [
    "#### Create Train and Test Dataframe"
   ],
   "metadata": {
    "id": "8E-AMjhbXW64"
   }
  },
  {
   "cell_type": "code",
   "source": [
    "cols = deepcopy(list(train_dict.keys()))\n",
    "cols.insert(0, 'sentence')\n",
    "\n",
    "train_df = pd.DataFrame(columns=cols)\n",
    "for i in range(len(y_train)):\n",
    "  row_dict = {}\n",
    "  row_dict['sentence'] = X_train[i]\n",
    "  for j in range(len(list(train_dict.keys()))):\n",
    "    if list(train_dict.keys())[j] != y_train[i]:\n",
    "      row_dict[list(train_dict.keys())[j]] = 0\n",
    "    else:\n",
    "      row_dict[list(train_dict.keys())[j]] = 1\n",
    "  train_df = train_df.append(row_dict, ignore_index=True)\n",
    "  row_dict.clear()"
   ],
   "metadata": {
    "id": "wOBMT3qSO-eQ"
   },
   "execution_count": null,
   "outputs": []
  },
  {
   "cell_type": "code",
   "source": [
    "test_df = pd.DataFrame(columns=cols)\n",
    "for i in range(len(y_test)):\n",
    "  row_dict = {}\n",
    "  row_dict['sentence'] = X_test[i]\n",
    "  for j in range(len(list(test_dict.keys()))):\n",
    "    if list(test_dict.keys())[j] != y_test[i]:\n",
    "      row_dict[list(test_dict.keys())[j]] = 0\n",
    "    else:\n",
    "      row_dict[list(test_dict.keys())[j]] = 1\n",
    "  test_df = test_df.append(row_dict, ignore_index=True)\n",
    "  row_dict.clear()"
   ],
   "metadata": {
    "id": "Ihr6I3RBXTpw"
   },
   "execution_count": null,
   "outputs": []
  },
  {
   "cell_type": "code",
   "source": [
    "print(train_df)\n",
    "print(test_df)"
   ],
   "metadata": {
    "colab": {
     "base_uri": "https://localhost:8080/"
    },
    "id": "PJOQbyJZTD8b",
    "executionInfo": {
     "status": "ok",
     "timestamp": 1640035368612,
     "user_tz": -60,
     "elapsed": 9,
     "user": {
      "displayName": "Philip",
      "photoUrl": "https://lh3.googleusercontent.com/a-/AOh14GjqcEfA087Q1ZxsEES7S5t6hXs8sFKMJv4mdqZqSg=s64",
      "userId": "16943322938249538799"
     }
    },
    "outputId": "7f728c8d-fdfd-4875-95e7-a42664597153"
   },
   "execution_count": null,
   "outputs": [
    {
     "output_type": "stream",
     "name": "stdout",
     "text": [
      "                                               sentence  ... ShareCurrentLocation\n",
      "0                    book a Ukraine  pub serves mineiro  ...                    0\n",
      "1     Create a theme station with Jim Creeggan recor...  ...                    0\n",
      "2            Weather at Bystrzyca Valley Landscape Park  ...                    0\n",
      "3              What will the weather be in Deer River ?  ...                    0\n",
      "4     I want to book a pizza  restaurant  close to A...  ...                    0\n",
      "...                                                 ...  ...                  ...\n",
      "9995  What movie schedules are animated movies  clos...  ...                    0\n",
      "9996  What's the best hotel between Soho Grand and P...  ...                    0\n",
      "9997      book in Southern Shores for 8 at Ariston Cafe  ...                    0\n",
      "9998         show me the movie times in Dipson Theatres  ...                    0\n",
      "9999                                  Play song  Softly  ...                    0\n",
      "\n",
      "[10000 rows x 16 columns]\n",
      "                                               sentence  ... ShareCurrentLocation\n",
      "0     Will you show me a schedule for movies  around...  ...                    0\n",
      "1     Put The Orange and the Green on Los 40 Radio É...  ...                    0\n",
      "2          rate The Pagan Christ  zero  points out of 6  ...                    0\n",
      "3                          play A Box of Birds  trailer  ...                    0\n",
      "4     Add a Jang Nara  track to the hip hop gaming p...  ...                    0\n",
      "...                                                 ...  ...                  ...\n",
      "5922       Wish to hear the album  Since I Saw You Last  ...                    0\n",
      "5923            add the artist to my  Spooning playlist  ...                    0\n",
      "5924  will the weather be warm in August at the fara...  ...                    0\n",
      "5925       find the video game  The Sims 3: Generations  ...                    0\n",
      "5926  Book me a restaurant reservation for a party o...  ...                    0\n",
      "\n",
      "[5927 rows x 16 columns]\n"
     ]
    }
   ]
  },
  {
   "cell_type": "markdown",
   "source": [
    "#### Count how many Data per Label we got"
   ],
   "metadata": {
    "id": "QOM6uQffq1_z"
   }
  },
  {
   "cell_type": "code",
   "source": [
    "count_dict = defaultdict(int)\n",
    "for i in train_df.columns:\n",
    "  count_dict[i] = 0\n",
    "  for j in train_df[str(i)]:\n",
    "    if j == 1:\n",
    "      count_dict[i] += 1\n",
    "\n",
    "for k, v in count_dict.items():\n",
    "  print(k,v)"
   ],
   "metadata": {
    "colab": {
     "base_uri": "https://localhost:8080/"
    },
    "id": "JnWTdfduq1wc",
    "executionInfo": {
     "status": "ok",
     "timestamp": 1640035368612,
     "user_tz": -60,
     "elapsed": 6,
     "user": {
      "displayName": "Philip",
      "photoUrl": "https://lh3.googleusercontent.com/a-/AOh14GjqcEfA087Q1ZxsEES7S5t6hXs8sFKMJv4mdqZqSg=s64",
      "userId": "16943322938249538799"
     }
    },
    "outputId": "adcde151-25b3-41bd-b118-a90bc73b9b74"
   },
   "execution_count": null,
   "outputs": [
    {
     "output_type": "stream",
     "name": "stdout",
     "text": [
      "sentence 0\n",
      "BookRestaurant 1508\n",
      "PlayMusic 1460\n",
      "GetWeather 1487\n",
      "SearchScreeningEvent 1322\n",
      "SearchCreativeWork 1347\n",
      "AddToPlaylist 1359\n",
      "RateBook 1389\n",
      "GetTrafficInformation 10\n",
      "GetDirections 18\n",
      "SearchPlace 20\n",
      "GetPlaceDetails 35\n",
      "RequestRide 11\n",
      "ComparePlaces 11\n",
      "ShareETA 15\n",
      "ShareCurrentLocation 8\n"
     ]
    }
   ]
  },
  {
   "cell_type": "markdown",
   "source": [
    "#### Seperate Data"
   ],
   "metadata": {
    "id": "yP6g7mKJYH84"
   }
  },
  {
   "cell_type": "code",
   "source": [
    "X_train = train_df[\"sentence\"].fillna(\"fillna\").values\n",
    "y_train = train_df.loc[ : , train_df.columns != 'sentence'].values"
   ],
   "metadata": {
    "id": "v-kjjebyX2uy"
   },
   "execution_count": null,
   "outputs": []
  },
  {
   "cell_type": "code",
   "source": [
    "X_test = test_df[\"sentence\"].fillna(\"fillna\").values\n",
    "y_test = test_df.loc[ : , test_df.columns != 'sentence'].values"
   ],
   "metadata": {
    "id": "zEf_nMRTYJ1T"
   },
   "execution_count": null,
   "outputs": []
  },
  {
   "cell_type": "code",
   "source": [
    "X_train.shape, y_train.shape"
   ],
   "metadata": {
    "colab": {
     "base_uri": "https://localhost:8080/"
    },
    "id": "XRCQC_DgY9Zu",
    "executionInfo": {
     "status": "ok",
     "timestamp": 1640035368914,
     "user_tz": -60,
     "elapsed": 6,
     "user": {
      "displayName": "Philip",
      "photoUrl": "https://lh3.googleusercontent.com/a-/AOh14GjqcEfA087Q1ZxsEES7S5t6hXs8sFKMJv4mdqZqSg=s64",
      "userId": "16943322938249538799"
     }
    },
    "outputId": "b0059243-77b6-41e3-c8b3-7ed8d6a9d82e"
   },
   "execution_count": null,
   "outputs": [
    {
     "output_type": "execute_result",
     "data": {
      "text/plain": [
       "((10000,), (10000, 15))"
      ]
     },
     "metadata": {},
     "execution_count": 104
    }
   ]
  },
  {
   "cell_type": "code",
   "source": [
    "X_test.shape, y_test.shape"
   ],
   "metadata": {
    "colab": {
     "base_uri": "https://localhost:8080/"
    },
    "id": "xwgTzAirZAfX",
    "executionInfo": {
     "status": "ok",
     "timestamp": 1640035368914,
     "user_tz": -60,
     "elapsed": 3,
     "user": {
      "displayName": "Philip",
      "photoUrl": "https://lh3.googleusercontent.com/a-/AOh14GjqcEfA087Q1ZxsEES7S5t6hXs8sFKMJv4mdqZqSg=s64",
      "userId": "16943322938249538799"
     }
    },
    "outputId": "214b2d99-75eb-4d78-e071-1cd44bb8e3ec"
   },
   "execution_count": null,
   "outputs": [
    {
     "output_type": "execute_result",
     "data": {
      "text/plain": [
       "((5927,), (5927, 15))"
      ]
     },
     "metadata": {},
     "execution_count": 105
    }
   ]
  },
  {
   "cell_type": "markdown",
   "source": [
    "## Preprocessing and converting data to arrays"
   ],
   "metadata": {
    "id": "LdOaN_WRZLqr"
   }
  },
  {
   "cell_type": "code",
   "source": [
    "text = X_train\n",
    "\n",
    "Tokenizer = Tokenizer()\n",
    "Tokenizer.fit_on_texts(text) \n",
    "Tokenizer_vocab_size = len(Tokenizer.word_index) + 1\n",
    "Tokenizer_vocab_size, X_train.shape, y_train.shape"
   ],
   "metadata": {
    "colab": {
     "base_uri": "https://localhost:8080/"
    },
    "id": "RODUltuzZEpK",
    "executionInfo": {
     "status": "ok",
     "timestamp": 1640035368914,
     "user_tz": -60,
     "elapsed": 3,
     "user": {
      "displayName": "Philip",
      "photoUrl": "https://lh3.googleusercontent.com/a-/AOh14GjqcEfA087Q1ZxsEES7S5t6hXs8sFKMJv4mdqZqSg=s64",
      "userId": "16943322938249538799"
     }
    },
    "outputId": "c0beaf57-c66c-4ce9-bb90-8c2358d6892d"
   },
   "execution_count": null,
   "outputs": [
    {
     "output_type": "execute_result",
     "data": {
      "text/plain": [
       "(9476, (10000,), (10000, 15))"
      ]
     },
     "metadata": {},
     "execution_count": 106
    }
   ]
  },
  {
   "cell_type": "code",
   "source": [
    "X_val = X_test\n",
    "y_val = y_test\n",
    "\n",
    "X_train_encoded_words = Tokenizer.texts_to_sequences(X_train)\n",
    "X_val_encoded_words = Tokenizer.texts_to_sequences(X_test)\n",
    "X_train_encoded_padded_words = sequence.pad_sequences(X_train_encoded_words, maxlen = 50)\n",
    "X_val_encoded_padded_words = sequence.pad_sequences(X_val_encoded_words, maxlen = 50)\n",
    "\n",
    "X_train_encoded_padded_words = np.asarray(X_train_encoded_padded_words).astype('float32')\n",
    "y_train = np.asarray(y_train).astype('float32')\n",
    "X_val_encoded_padded_words =np.asarray(X_val_encoded_padded_words).astype('float32')\n",
    "y_val = np.asarray(y_val).astype('float32')\n",
    "\n",
    "X_train_encoded_padded_words.shape, X_val_encoded_padded_words.shape"
   ],
   "metadata": {
    "colab": {
     "base_uri": "https://localhost:8080/"
    },
    "id": "338bhuaYZOfY",
    "executionInfo": {
     "status": "ok",
     "timestamp": 1640035369344,
     "user_tz": -60,
     "elapsed": 432,
     "user": {
      "displayName": "Philip",
      "photoUrl": "https://lh3.googleusercontent.com/a-/AOh14GjqcEfA087Q1ZxsEES7S5t6hXs8sFKMJv4mdqZqSg=s64",
      "userId": "16943322938249538799"
     }
    },
    "outputId": "989fc3b4-27c3-494e-9273-705a757cacbf"
   },
   "execution_count": null,
   "outputs": [
    {
     "output_type": "execute_result",
     "data": {
      "text/plain": [
       "((10000, 50), (5927, 50))"
      ]
     },
     "metadata": {},
     "execution_count": 107
    }
   ]
  },
  {
   "cell_type": "code",
   "source": [
    "X_val_encoded_padded_words, X_train_encoded_padded_words"
   ],
   "metadata": {
    "colab": {
     "base_uri": "https://localhost:8080/"
    },
    "id": "mHs-ZFwnZmGM",
    "executionInfo": {
     "status": "ok",
     "timestamp": 1640035369344,
     "user_tz": -60,
     "elapsed": 2,
     "user": {
      "displayName": "Philip",
      "photoUrl": "https://lh3.googleusercontent.com/a-/AOh14GjqcEfA087Q1ZxsEES7S5t6hXs8sFKMJv4mdqZqSg=s64",
      "userId": "16943322938249538799"
     }
    },
    "outputId": "f01a4787-b7f6-452b-a013-27f5d57f8d17"
   },
   "execution_count": null,
   "outputs": [
    {
     "output_type": "execute_result",
     "data": {
      "text/plain": [
       "(array([[0.000e+00, 0.000e+00, 0.000e+00, ..., 4.600e+01, 1.210e+02,\n",
       "         8.800e+01],\n",
       "        [0.000e+00, 0.000e+00, 0.000e+00, ..., 1.016e+03, 7.870e+02,\n",
       "         9.660e+02],\n",
       "        [0.000e+00, 0.000e+00, 0.000e+00, ..., 3.200e+01, 6.000e+00,\n",
       "         2.000e+01],\n",
       "        ...,\n",
       "        [0.000e+00, 0.000e+00, 0.000e+00, ..., 3.060e+02, 3.000e+00,\n",
       "         6.810e+02],\n",
       "        [0.000e+00, 0.000e+00, 0.000e+00, ..., 1.000e+00, 3.973e+03,\n",
       "         6.600e+01],\n",
       "        [0.000e+00, 0.000e+00, 0.000e+00, ..., 1.730e+02, 2.100e+01,\n",
       "         5.100e+01]], dtype=float32),\n",
       " array([[0.000e+00, 0.000e+00, 0.000e+00, ..., 1.460e+02, 1.020e+02,\n",
       "         3.702e+03],\n",
       "        [0.000e+00, 0.000e+00, 0.000e+00, ..., 1.770e+03, 2.300e+01,\n",
       "         3.705e+03],\n",
       "        [0.000e+00, 0.000e+00, 0.000e+00, ..., 4.500e+02, 2.376e+03,\n",
       "         1.170e+02],\n",
       "        ...,\n",
       "        [0.000e+00, 0.000e+00, 0.000e+00, ..., 7.000e+00, 2.158e+03,\n",
       "         2.280e+02],\n",
       "        [0.000e+00, 0.000e+00, 0.000e+00, ..., 3.000e+00, 8.780e+02,\n",
       "         6.300e+01],\n",
       "        [0.000e+00, 0.000e+00, 0.000e+00, ..., 9.000e+00, 4.400e+01,\n",
       "         3.670e+03]], dtype=float32))"
      ]
     },
     "metadata": {},
     "execution_count": 108
    }
   ]
  },
  {
   "cell_type": "markdown",
   "source": [
    "## Neural Network with LSTM "
   ],
   "metadata": {
    "id": "NmA-aqPAph5F"
   }
  },
  {
   "cell_type": "code",
   "source": [
    "model = Sequential()\n",
    "\n",
    "model.add(Embedding(Tokenizer_vocab_size, 200)) \n",
    "\n",
    "model.add(LSTM(10))\n",
    "model.add(Dense(200, activation='relu'))\n",
    "model.add(Dropout(0.5))\n",
    "model.add(Dense(200, activation='relu'))\n",
    "model.add(Dense(15, activation='softmax'))\n",
    "\n",
    "model.summary()"
   ],
   "metadata": {
    "colab": {
     "base_uri": "https://localhost:8080/"
    },
    "id": "LHS2A-0zZpWG",
    "executionInfo": {
     "status": "ok",
     "timestamp": 1640038013973,
     "user_tz": -60,
     "elapsed": 974,
     "user": {
      "displayName": "Philip",
      "photoUrl": "https://lh3.googleusercontent.com/a-/AOh14GjqcEfA087Q1ZxsEES7S5t6hXs8sFKMJv4mdqZqSg=s64",
      "userId": "16943322938249538799"
     }
    },
    "outputId": "58cdf329-bba4-4288-fdb7-9ace278290c3"
   },
   "execution_count": 119,
   "outputs": [
    {
     "output_type": "stream",
     "name": "stdout",
     "text": [
      "Model: \"sequential_10\"\n",
      "_________________________________________________________________\n",
      " Layer (type)                Output Shape              Param #   \n",
      "=================================================================\n",
      " embedding_10 (Embedding)    (None, None, 200)         1895200   \n",
      "                                                                 \n",
      " lstm_10 (LSTM)              (None, 10)                8440      \n",
      "                                                                 \n",
      " dense_29 (Dense)            (None, 200)               2200      \n",
      "                                                                 \n",
      " dropout_5 (Dropout)         (None, 200)               0         \n",
      "                                                                 \n",
      " dense_30 (Dense)            (None, 200)               40200     \n",
      "                                                                 \n",
      " dense_31 (Dense)            (None, 15)                3015      \n",
      "                                                                 \n",
      "=================================================================\n",
      "Total params: 1,949,055\n",
      "Trainable params: 1,949,055\n",
      "Non-trainable params: 0\n",
      "_________________________________________________________________\n"
     ]
    }
   ]
  },
  {
   "cell_type": "code",
   "source": [
    "Nadam = tf.keras.optimizers.Nadam(learning_rate=0.002, beta_1=0.9, beta_2=0.999, epsilon=1e-08, schedule_decay=0.004)\n",
    "\n",
    "\n",
    "\n",
    "model.compile(loss='categorical_crossentropy', optimizer=Nadam, metrics=['accuracy'])\n",
    "\n",
    "\n",
    "history  = model.fit(X_train_encoded_padded_words,y_train, epochs = 5, batch_size=32, verbose=1, validation_data=(X_val_encoded_padded_words, y_val))"
   ],
   "metadata": {
    "colab": {
     "base_uri": "https://localhost:8080/"
    },
    "id": "JyvLDPCxZuRy",
    "outputId": "fc625463-f30e-457a-83c7-ac2657025e93",
    "executionInfo": {
     "status": "ok",
     "timestamp": 1640038167364,
     "user_tz": -60,
     "elapsed": 153392,
     "user": {
      "displayName": "Philip",
      "photoUrl": "https://lh3.googleusercontent.com/a-/AOh14GjqcEfA087Q1ZxsEES7S5t6hXs8sFKMJv4mdqZqSg=s64",
      "userId": "16943322938249538799"
     }
    }
   },
   "execution_count": 120,
   "outputs": [
    {
     "output_type": "stream",
     "name": "stdout",
     "text": [
      "Epoch 1/5\n",
      "313/313 [==============================] - 35s 74ms/step - loss: 0.4619 - accuracy: 0.8566 - val_loss: 0.1416 - val_accuracy: 0.9590\n",
      "Epoch 2/5\n",
      "313/313 [==============================] - 16s 51ms/step - loss: 0.0828 - accuracy: 0.9767 - val_loss: 0.1444 - val_accuracy: 0.9625\n",
      "Epoch 3/5\n",
      "313/313 [==============================] - 15s 48ms/step - loss: 0.0431 - accuracy: 0.9869 - val_loss: 0.1476 - val_accuracy: 0.9641\n",
      "Epoch 4/5\n",
      "313/313 [==============================] - 15s 47ms/step - loss: 0.0286 - accuracy: 0.9904 - val_loss: 0.2029 - val_accuracy: 0.9592\n",
      "Epoch 5/5\n",
      "313/313 [==============================] - 16s 50ms/step - loss: 0.0261 - accuracy: 0.9913 - val_loss: 0.1767 - val_accuracy: 0.9624\n"
     ]
    }
   ]
  },
  {
   "cell_type": "code",
   "source": [],
   "metadata": {
    "id": "pV9FNbeHZ1Z7",
    "executionInfo": {
     "status": "ok",
     "timestamp": 1640038167364,
     "user_tz": -60,
     "elapsed": 5,
     "user": {
      "displayName": "Philip",
      "photoUrl": "https://lh3.googleusercontent.com/a-/AOh14GjqcEfA087Q1ZxsEES7S5t6hXs8sFKMJv4mdqZqSg=s64",
      "userId": "16943322938249538799"
     }
    }
   },
   "execution_count": 120,
   "outputs": []
  },
  {
   "cell_type": "markdown",
   "source": [
    "## Plots & Evaluation"
   ],
   "metadata": {
    "id": "KAcdwf86cRV4"
   }
  },
  {
   "cell_type": "code",
   "source": [
    "from matplotlib import pyplot as plt\n",
    "plt.plot(history.history['loss'])\n",
    "plt.plot(history.history['val_loss'])\n",
    "plt.title('model loss')\n",
    "plt.ylabel('loss')\n",
    "plt.xlabel('epoch')\n",
    "plt.legend(['train', 'validation'], loc='upper right')\n",
    "plt.show()"
   ],
   "metadata": {
    "id": "jICKL2pqblQC",
    "colab": {
     "base_uri": "https://localhost:8080/",
     "height": 295
    },
    "executionInfo": {
     "status": "ok",
     "timestamp": 1640038167856,
     "user_tz": -60,
     "elapsed": 495,
     "user": {
      "displayName": "Philip",
      "photoUrl": "https://lh3.googleusercontent.com/a-/AOh14GjqcEfA087Q1ZxsEES7S5t6hXs8sFKMJv4mdqZqSg=s64",
      "userId": "16943322938249538799"
     }
    },
    "outputId": "d7d31d3c-441b-4422-94d9-8bd95f233bd2"
   },
   "execution_count": 121,
   "outputs": [
    {
     "output_type": "display_data",
     "data": {
      "image/png": "[encoded data removed]",
      "text/plain": [
       "<Figure size 432x288 with 1 Axes>"
      ]
     },
     "metadata": {
      "needs_background": "light"
     }
    }
   ]
  },
  {
   "cell_type": "code",
   "source": [
    "#accuracy\n",
    "from matplotlib import pyplot as plt\n",
    "plt.plot(history.history['accuracy'])\n",
    "plt.plot(history.history['val_accuracy'])\n",
    "plt.title('model accuracy')\n",
    "plt.ylabel('accuracy')\n",
    "plt.xlabel('epoch')\n",
    "plt.legend(['train', 'validation'], loc='lower right')\n",
    "plt.show()"
   ],
   "metadata": {
    "id": "kqH-6kEucd8T",
    "colab": {
     "base_uri": "https://localhost:8080/",
     "height": 295
    },
    "executionInfo": {
     "status": "ok",
     "timestamp": 1640038167856,
     "user_tz": -60,
     "elapsed": 3,
     "user": {
      "displayName": "Philip",
      "photoUrl": "https://lh3.googleusercontent.com/a-/AOh14GjqcEfA087Q1ZxsEES7S5t6hXs8sFKMJv4mdqZqSg=s64",
      "userId": "16943322938249538799"
     }
    },
    "outputId": "c25d5a73-0d25-49db-cf53-ab8f59a2b82a"
   },
   "execution_count": 122,
   "outputs": [
    {
     "output_type": "display_data",
     "data": {
      "image/png": "[encoded data removed]",
      "text/plain": [
       "<Figure size 432x288 with 1 Axes>"
      ]
     },
     "metadata": {
      "needs_background": "light"
     }
    }
   ]
  },
  {
   "cell_type": "code",
   "source": [
    "model.evaluate(X_val_encoded_padded_words, y_val)\n"
   ],
   "metadata": {
    "id": "tfuFe3lBchMX",
    "colab": {
     "base_uri": "https://localhost:8080/"
    },
    "executionInfo": {
     "status": "ok",
     "timestamp": 1640038169596,
     "user_tz": -60,
     "elapsed": 1743,
     "user": {
      "displayName": "Philip",
      "photoUrl": "https://lh3.googleusercontent.com/a-/AOh14GjqcEfA087Q1ZxsEES7S5t6hXs8sFKMJv4mdqZqSg=s64",
      "userId": "16943322938249538799"
     }
    },
    "outputId": "a6c9da60-82a5-4824-9511-b0cc77306b32"
   },
   "execution_count": 123,
   "outputs": [
    {
     "output_type": "stream",
     "name": "stdout",
     "text": [
      "186/186 [==============================] - 2s 9ms/step - loss: 0.1767 - accuracy: 0.9624\n"
     ]
    },
    {
     "output_type": "execute_result",
     "data": {
      "text/plain": [
       "[0.17673182487487793, 0.9623755812644958]"
      ]
     },
     "metadata": {},
     "execution_count": 123
    }
   ]
  },
  {
   "cell_type": "code",
   "source": [],
   "metadata": {
    "id": "kSMenzkgSbBC",
    "executionInfo": {
     "status": "ok",
     "timestamp": 1640038169596,
     "user_tz": -60,
     "elapsed": 2,
     "user": {
      "displayName": "Philip",
      "photoUrl": "https://lh3.googleusercontent.com/a-/AOh14GjqcEfA087Q1ZxsEES7S5t6hXs8sFKMJv4mdqZqSg=s64",
      "userId": "16943322938249538799"
     }
    }
   },
   "execution_count": 123,
   "outputs": []
  }
 ]
}
